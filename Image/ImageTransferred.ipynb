{
 "cells": [
  {
   "cell_type": "code",
   "execution_count": 37,
   "id": "59ed633e-be64-4ad1-ad35-4963ad73c7d0",
   "metadata": {},
   "outputs": [],
   "source": [
    "import tensorflow as tf\n",
    "import tensorflow_hub as hub\n",
    "import numpy as np"
   ]
  },
  {
   "cell_type": "code",
   "execution_count": 39,
   "id": "27bd4476-51cb-4a10-a2a1-7f5552827c7b",
   "metadata": {},
   "outputs": [],
   "source": [
    "def load_image(image_path):\n",
    "    img=tf.io.read_file(image_path)\n",
    "    img=tf.image.decode_image(img,channels=3)\n",
    "    img=tf.image.convert_image_dtype(img,tf.float32)\n",
    "    img=img[tf.newaxis,:]\n",
    "    return img\n",
    "model=hub.load(\"https://tfhub.dev/google/magenta/arbitrary-image-stylization-v1-256/2\")"
   ]
  },
  {
   "cell_type": "code",
   "execution_count": 40,
   "id": "097d2745-8589-4db6-a6f3-a2a005afa022",
   "metadata": {},
   "outputs": [],
   "source": [
    "img_input=load_image(\"./messi.jpg\")\n",
    "img_style=load_image(\"./style.jpg\")\n",
    "img_transformed=model(img_input,img_style)[0]\n",
    "img_transformed=tf.keras.preprocessing.image.array_to_img(img_transformed[0])\n",
    "img_transformed.save(\"transformed_img.jpg\")"
   ]
  },
  {
   "cell_type": "code",
   "execution_count": null,
   "id": "b9f45b6c-975a-4255-8c47-8494ff499903",
   "metadata": {},
   "outputs": [],
   "source": []
  }
 ],
 "metadata": {
  "kernelspec": {
   "display_name": "env_bst",
   "language": "python",
   "name": "env_bst"
  },
  "language_info": {
   "codemirror_mode": {
    "name": "ipython",
    "version": 3
   },
   "file_extension": ".py",
   "mimetype": "text/x-python",
   "name": "python",
   "nbconvert_exporter": "python",
   "pygments_lexer": "ipython3",
   "version": "3.10.10"
  }
 },
 "nbformat": 4,
 "nbformat_minor": 5
}
